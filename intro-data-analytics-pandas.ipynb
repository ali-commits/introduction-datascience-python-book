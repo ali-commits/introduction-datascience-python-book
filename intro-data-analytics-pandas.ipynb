{
 "cells": [
  {
   "cell_type": "markdown",
   "metadata": {},
   "source": [
    "# Introduction to Data Analytics and Pandas\n",
    "\n",
    "## What is Data Analytics?\n",
    "\n",
    "Data analytics is the process of examining, cleaning, transforming, and interpreting data to discover useful information, draw conclusions, and support decision-making. It involves various techniques, tools, and processes to extract insights from raw data.\n",
    "\n",
    "## Introduction to Pandas\n",
    "\n",
    "Pandas is a powerful Python library for data manipulation and analysis. It provides data structures like DataFrames and Series, which allow you to work with structured data efficiently. Pandas is widely used in data science and analytics for tasks such as:\n",
    "\n",
    "- Loading data from various sources (CSV, Excel, databases, etc.)\n",
    "- Cleaning and preprocessing data\n",
    "- Performing data transformations\n",
    "- Analyzing and summarizing data\n",
    "- Merging and joining datasets\n",
    "\n",
    "Let's start by importing pandas and loading some example datasets.\n"
   ]
  },
  {
   "cell_type": "code",
   "execution_count": 1,
   "metadata": {},
   "outputs": [],
   "source": [
    "import pandas as pd\n",
    "import matplotlib.pyplot as plt\n",
    "import seaborn as sns\n",
    "\n",
    "# Load the Titanic dataset\n",
    "titanic_df = pd.read_csv(\n",
    "    \"https://web.stanford.edu/class/archive/cs/cs109/cs109.1166/stuff/titanic.csv\"\n",
    ")"
   ]
  },
  {
   "cell_type": "code",
   "execution_count": null,
   "metadata": {},
   "outputs": [],
   "source": [
    "# Display the first few rows of the dataset\n",
    "titanic_df.head()"
   ]
  },
  {
   "cell_type": "code",
   "execution_count": null,
   "metadata": {},
   "outputs": [],
   "source": [
    "# Get basic information about the dataset\n",
    "titanic_df.info()"
   ]
  },
  {
   "cell_type": "code",
   "execution_count": null,
   "metadata": {},
   "outputs": [],
   "source": [
    "# Summary statistics of numerical columns\n",
    "titanic_df.describe()"
   ]
  },
  {
   "cell_type": "code",
   "execution_count": null,
   "metadata": {},
   "outputs": [],
   "source": [
    "# Example 1: Survival rate by passenger class\n",
    "survival_rate = titanic_df.groupby(\"Pclass\")[\"Survived\"].mean()\n",
    "print(\"Survival rate by passenger class:\")\n",
    "print(survival_rate)"
   ]
  },
  {
   "cell_type": "code",
   "execution_count": null,
   "metadata": {},
   "outputs": [],
   "source": [
    "# Visualize survival rate by passenger class\n",
    "plt.figure(figsize=(10, 6))\n",
    "survival_rate.plot(kind=\"bar\")\n",
    "plt.title(\"Survival Rate by Passenger Class\")\n",
    "plt.xlabel(\"Passenger Class\")\n",
    "plt.ylabel(\"Survival Rate\")\n",
    "plt.show()"
   ]
  },
  {
   "cell_type": "code",
   "execution_count": null,
   "metadata": {},
   "outputs": [],
   "source": [
    "# Example 2: Age distribution of passengers\n",
    "plt.figure(figsize=(10, 6))\n",
    "sns.histplot(data=titanic_df, x=\"Age\", bins=20, kde=True)\n",
    "plt.title(\"Age Distribution of Passengers\")\n",
    "plt.xlabel(\"Age\")\n",
    "plt.ylabel(\"Count\")\n",
    "plt.show()"
   ]
  }
 ],
 "metadata": {
  "kernelspec": {
   "display_name": "Python 3",
   "language": "python",
   "name": "python3"
  },
  "language_info": {
   "codemirror_mode": {
    "name": "ipython",
    "version": 3
   },
   "file_extension": ".py",
   "mimetype": "text/x-python",
   "name": "python",
   "nbconvert_exporter": "python",
   "pygments_lexer": "ipython3",
   "version": "3.13.0rc2"
  }
 },
 "nbformat": 4,
 "nbformat_minor": 2
}
