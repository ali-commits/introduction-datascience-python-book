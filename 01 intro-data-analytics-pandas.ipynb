{
 "cells": [
  {
   "cell_type": "markdown",
   "metadata": {},
   "source": [
    "# Introduction to Data Analytics and Pandas\n",
    "\n",
    "## What is Data Analytics?\n",
    "\n",
    "Data analytics is the process of examining, cleaning, transforming, and interpreting data to discover useful information, draw conclusions, and support decision-making. It involves various techniques, tools, and processes to extract insights from raw data.\n",
    "\n",
    "## Introduction to Pandas\n",
    "\n",
    "Pandas is a powerful Python library for data manipulation and analysis. It provides data structures like DataFrames and Series, which allow you to work with structured data efficiently. Pandas is widely used in data science and analytics for tasks such as:\n",
    "\n",
    "- Loading data from various sources (CSV, Excel, databases, etc.)\n",
    "- Cleaning and preprocessing data\n",
    "- Performing data transformations\n",
    "- Analyzing and summarizing data\n",
    "- Merging and joining datasets\n",
    "\n",
    "Let's start by importing pandas and loading some example datasets.\n"
   ]
  },
  {
   "cell_type": "markdown",
   "metadata": {},
   "source": [
    "install needed libraries\n",
    "\n",
    "```bash\n",
    "python3 -m pip install pandas matplotlib seaborn\n",
    "```\n",
    "\n",
    "```python\n",
    "```"
   ]
  },
  {
   "cell_type": "code",
   "execution_count": 10,
   "metadata": {},
   "outputs": [],
   "source": [
    "# Import the necessary libraries\n",
    "import pandas as pd\n",
    "import matplotlib.pyplot as plt\n",
    "import seaborn as sns\n",
    "\n",
    "# Read the Titanic dataset\n",
    "titanic_df = pd.read_csv(\"titanic.csv\")"
   ]
  },
  {
   "cell_type": "code",
   "execution_count": null,
   "metadata": {},
   "outputs": [],
   "source": [
    "# Display the first few rows of the dataset\n",
    "titanic_df.head()"
   ]
  },
  {
   "cell_type": "code",
   "execution_count": null,
   "metadata": {},
   "outputs": [],
   "source": [
    "# Get basic information about the dataset\n",
    "titanic_df.info()"
   ]
  },
  {
   "cell_type": "code",
   "execution_count": null,
   "metadata": {},
   "outputs": [],
   "source": [
    "# Summary statistics of numerical columns\n",
    "titanic_df.describe()"
   ]
  },
  {
   "cell_type": "code",
   "execution_count": null,
   "metadata": {},
   "outputs": [],
   "source": [
    "# Example 1: Survival rate by passenger class\n",
    "survival_rate = titanic_df.groupby(\"Pclass\")[\"Survived\"].mean()\n",
    "print(\"Survival rate by passenger class:\")\n",
    "print(survival_rate)"
   ]
  },
  {
   "cell_type": "code",
   "execution_count": null,
   "metadata": {},
   "outputs": [],
   "source": [
    "# Visualize survival rate by passenger class\n",
    "plt.figure(figsize=(10, 6))\n",
    "survival_rate.plot(kind=\"bar\")\n",
    "plt.title(\"Survival Rate by Passenger Class\")\n",
    "plt.xlabel(\"Passenger Class\")\n",
    "plt.ylabel(\"Survival Rate\")\n",
    "plt.show()"
   ]
  },
  {
   "cell_type": "code",
   "execution_count": null,
   "metadata": {},
   "outputs": [],
   "source": [
    "# Visualize survival rate by passenger class using seaborn\n",
    "\n",
    "sns.barplot(x=\"Pclass\", y=\"Survived\", data=titanic_df)\n",
    "plt.title(\"Survival Rate by Passenger Class\")\n",
    "plt.xlabel(\"Passenger Class\")\n",
    "plt.ylabel(\"Survival Rate\")\n",
    "plt.show()"
   ]
  },
  {
   "cell_type": "code",
   "execution_count": null,
   "metadata": {},
   "outputs": [],
   "source": [
    "# Example 2: Age distribution of passengers\n",
    "plt.figure(figsize=(10, 6))\n",
    "sns.histplot(data=titanic_df, x=\"Age\", bins=16, kde=True)\n",
    "plt.title(\"Age Distribution of Passengers\")\n",
    "plt.xlabel(\"Age\")\n",
    "plt.ylabel(\"Count\")\n",
    "plt.show()"
   ]
  },
  {
   "cell_type": "markdown",
   "metadata": {},
   "source": [
    "## Reading Data from Online Sources\n",
    "We can also load data directly from online sources. Let's read the World Population data from Worldometer as an example.\n",
    "\n"
   ]
  },
  {
   "cell_type": "code",
   "execution_count": 58,
   "metadata": {},
   "outputs": [],
   "source": [
    "# Read World Population data from Worldometer\n",
    "url = \"https://www.worldometers.info/world-population/population-by-country/\"\n",
    "population_data = pd.read_html(url)[0]"
   ]
  },
  {
   "cell_type": "code",
   "execution_count": null,
   "metadata": {},
   "outputs": [],
   "source": [
    "# Display the first few rows of the data\n",
    "population_data.head(10)"
   ]
  },
  {
   "cell_type": "code",
   "execution_count": null,
   "metadata": {},
   "outputs": [],
   "source": [
    "population_data.iloc[0:3]"
   ]
  },
  {
   "cell_type": "code",
   "execution_count": null,
   "metadata": {},
   "outputs": [],
   "source": [
    "population_data.sample(5)"
   ]
  },
  {
   "cell_type": "code",
   "execution_count": 31,
   "metadata": {},
   "outputs": [],
   "source": [
    "# sort the data by countries\n",
    "population_data.sort_values(by=\"Country (or dependency)\", inplace=True)"
   ]
  },
  {
   "cell_type": "code",
   "execution_count": null,
   "metadata": {},
   "outputs": [],
   "source": [
    "population_data.head(15)"
   ]
  },
  {
   "cell_type": "code",
   "execution_count": null,
   "metadata": {},
   "outputs": [],
   "source": [
    "# Example 3: get the servivors only\n",
    "servivors_df = titanic_df[titanic_df[\"Survived\"] == 1]\n",
    "servivors_df.head()"
   ]
  },
  {
   "cell_type": "code",
   "execution_count": null,
   "metadata": {},
   "outputs": [],
   "source": [
    "# plot the age distribution of servivors\n",
    "sns.histplot(data=servivors_df, x=\"Age\", bins=40, kde=True)\n",
    "plt.title(\"Age Distribution of Survivors\")\n",
    "plt.xlabel(\"Age\")\n",
    "plt.ylabel(\"Count\")\n",
    "plt.show()"
   ]
  },
  {
   "cell_type": "code",
   "execution_count": null,
   "metadata": {},
   "outputs": [],
   "source": [
    "died_df = titanic_df[titanic_df[\"Survived\"] == 0]\n",
    "died_df.head()"
   ]
  },
  {
   "cell_type": "code",
   "execution_count": null,
   "metadata": {},
   "outputs": [],
   "source": [
    "# plot the age distribution of servivors\n",
    "sns.histplot(data=died_df, x=\"Age\", bins=40, kde=True)\n",
    "plt.title(\"Age Distribution of died\")\n",
    "plt.xlabel(\"Age\")\n",
    "plt.ylabel(\"Count\")\n",
    "plt.show()"
   ]
  },
  {
   "cell_type": "markdown",
   "metadata": {},
   "source": [
    "# Exercises\n",
    "Now it's your turn! Try to complete the following exercises to practice your skills.\n",
    "\n",
    "- Survival Rate by Gender and Passenger Class: Use the Titanic dataset to create a bar chart that shows the survival rate for each combination of gender and passenger class (Pclass).\n",
    "\n",
    "- Population Growth: Create a bar plot showing the yearly population growth for the top 10 countries from the World Population dataset. You can use the Yearly Change column."
   ]
  },
  {
   "cell_type": "code",
   "execution_count": 51,
   "metadata": {},
   "outputs": [
    {
     "data": {
      "text/plain": [
       "Sex\n",
       "female    0.742038\n",
       "male      0.190227\n",
       "Name: Survived, dtype: float64"
      ]
     },
     "execution_count": 51,
     "metadata": {},
     "output_type": "execute_result"
    }
   ],
   "source": [
    "titanic_df.groupby(\"Sex\")[\"Survived\"].mean()"
   ]
  },
  {
   "cell_type": "code",
   "execution_count": 52,
   "metadata": {},
   "outputs": [
    {
     "data": {
      "text/plain": [
       "<Axes: xlabel='Sex'>"
      ]
     },
     "execution_count": 52,
     "metadata": {},
     "output_type": "execute_result"
    },
    {
     "data": {
      "image/png": "[encoded data removed]",
      "text/plain": [
       "<Figure size 640x480 with 1 Axes>"
      ]
     },
     "metadata": {},
     "output_type": "display_data"
    }
   ],
   "source": [
    "# plot survival rate\n",
    "sex_survival_rate = titanic_df.groupby(\"Sex\")[\"Survived\"].mean()\n",
    "\n",
    "sex_survival_rate.plot(kind=\"bar\")"
   ]
  },
  {
   "cell_type": "code",
   "execution_count": 56,
   "metadata": {},
   "outputs": [
    {
     "data": {
      "text/plain": [
       "<Axes: xlabel='Pclass,Sex'>"
      ]
     },
     "execution_count": 56,
     "metadata": {},
     "output_type": "execute_result"
    },
    {
     "data": {
      "image/png": "[encoded data removed]",
      "text/plain": [
       "<Figure size 640x480 with 1 Axes>"
      ]
     },
     "metadata": {},
     "output_type": "display_data"
    }
   ],
   "source": [
    "servivors_rate_df = titanic_df.groupby([\"Pclass\", \"Sex\"])[\"Survived\"].mean()\n",
    "\n",
    "servivors_rate_df.plot(kind=\"bar\")"
   ]
  },
  {
   "cell_type": "code",
   "execution_count": 57,
   "metadata": {},
   "outputs": [
    {
     "data": {
      "text/plain": [
       "<Axes: xlabel='Pclass,Sex'>"
      ]
     },
     "execution_count": 57,
     "metadata": {},
     "output_type": "execute_result"
    },
    {
     "data": {
      "image/png": "[encoded data removed]",
      "text/plain": [
       "<Figure size 640x480 with 1 Axes>"
      ]
     },
     "metadata": {},
     "output_type": "display_data"
    }
   ],
   "source": [
    "servivors_count_df = titanic_df.groupby([\"Pclass\", \"Sex\"])[\"Survived\"].sum()\n",
    "\n",
    "servivors_count_df.plot(kind=\"bar\")"
   ]
  },
  {
   "cell_type": "code",
   "execution_count": 59,
   "metadata": {},
   "outputs": [
    {
     "data": {
      "text/html": [
       "<div>\n",
       "<style scoped>\n",
       "    .dataframe tbody tr th:only-of-type {\n",
       "        vertical-align: middle;\n",
       "    }\n",
       "\n",
       "    .dataframe tbody tr th {\n",
       "        vertical-align: top;\n",
       "    }\n",
       "\n",
       "    .dataframe thead th {\n",
       "        text-align: right;\n",
       "    }\n",
       "</style>\n",
       "<table border=\"1\" class=\"dataframe\">\n",
       "  <thead>\n",
       "    <tr style=\"text-align: right;\">\n",
       "      <th></th>\n",
       "      <th>#</th>\n",
       "      <th>Country (or dependency)</th>\n",
       "      <th>Population  (2024)</th>\n",
       "      <th>Yearly  Change</th>\n",
       "      <th>Net  Change</th>\n",
       "      <th>Density  (P/Km²)</th>\n",
       "      <th>Land Area  (Km²)</th>\n",
       "      <th>Migrants  (net)</th>\n",
       "      <th>Fert.  Rate</th>\n",
       "      <th>Med.  Age</th>\n",
       "      <th>Urban  Pop %</th>\n",
       "      <th>World  Share</th>\n",
       "    </tr>\n",
       "  </thead>\n",
       "  <tbody>\n",
       "    <tr>\n",
       "      <th>0</th>\n",
       "      <td>1</td>\n",
       "      <td>India</td>\n",
       "      <td>1450935791</td>\n",
       "      <td>0.89 %</td>\n",
       "      <td>12866195</td>\n",
       "      <td>488</td>\n",
       "      <td>2973190</td>\n",
       "      <td>-630830</td>\n",
       "      <td>2.0</td>\n",
       "      <td>28</td>\n",
       "      <td>37 %</td>\n",
       "      <td>17.78 %</td>\n",
       "    </tr>\n",
       "    <tr>\n",
       "      <th>1</th>\n",
       "      <td>2</td>\n",
       "      <td>China</td>\n",
       "      <td>1419321278</td>\n",
       "      <td>-0.23 %</td>\n",
       "      <td>-3263655</td>\n",
       "      <td>151</td>\n",
       "      <td>9388211</td>\n",
       "      <td>-318992</td>\n",
       "      <td>1.0</td>\n",
       "      <td>40</td>\n",
       "      <td>66 %</td>\n",
       "      <td>17.39 %</td>\n",
       "    </tr>\n",
       "    <tr>\n",
       "      <th>2</th>\n",
       "      <td>3</td>\n",
       "      <td>United States</td>\n",
       "      <td>345426571</td>\n",
       "      <td>0.57 %</td>\n",
       "      <td>1949236</td>\n",
       "      <td>38</td>\n",
       "      <td>9147420</td>\n",
       "      <td>1286132</td>\n",
       "      <td>1.6</td>\n",
       "      <td>38</td>\n",
       "      <td>82 %</td>\n",
       "      <td>4.23 %</td>\n",
       "    </tr>\n",
       "    <tr>\n",
       "      <th>3</th>\n",
       "      <td>4</td>\n",
       "      <td>Indonesia</td>\n",
       "      <td>283487931</td>\n",
       "      <td>0.82 %</td>\n",
       "      <td>2297864</td>\n",
       "      <td>156</td>\n",
       "      <td>1811570</td>\n",
       "      <td>-38469</td>\n",
       "      <td>2.1</td>\n",
       "      <td>30</td>\n",
       "      <td>59 %</td>\n",
       "      <td>3.47 %</td>\n",
       "    </tr>\n",
       "    <tr>\n",
       "      <th>4</th>\n",
       "      <td>5</td>\n",
       "      <td>Pakistan</td>\n",
       "      <td>251269164</td>\n",
       "      <td>1.52 %</td>\n",
       "      <td>3764669</td>\n",
       "      <td>326</td>\n",
       "      <td>770880</td>\n",
       "      <td>-1401173</td>\n",
       "      <td>3.5</td>\n",
       "      <td>20</td>\n",
       "      <td>34 %</td>\n",
       "      <td>3.08 %</td>\n",
       "    </tr>\n",
       "  </tbody>\n",
       "</table>\n",
       "</div>"
      ],
      "text/plain": [
       "   # Country (or dependency)  Population  (2024) Yearly  Change  Net  Change  \\\n",
       "0  1                   India          1450935791         0.89 %     12866195   \n",
       "1  2                   China          1419321278        -0.23 %     -3263655   \n",
       "2  3           United States           345426571         0.57 %      1949236   \n",
       "3  4               Indonesia           283487931         0.82 %      2297864   \n",
       "4  5                Pakistan           251269164         1.52 %      3764669   \n",
       "\n",
       "   Density  (P/Km²)  Land Area  (Km²)  Migrants  (net)  Fert.  Rate  \\\n",
       "0               488           2973190          -630830          2.0   \n",
       "1               151           9388211          -318992          1.0   \n",
       "2                38           9147420          1286132          1.6   \n",
       "3               156           1811570           -38469          2.1   \n",
       "4               326            770880         -1401173          3.5   \n",
       "\n",
       "   Med.  Age Urban  Pop % World  Share  \n",
       "0         28         37 %      17.78 %  \n",
       "1         40         66 %      17.39 %  \n",
       "2         38         82 %       4.23 %  \n",
       "3         30         59 %       3.47 %  \n",
       "4         20         34 %       3.08 %  "
      ]
     },
     "execution_count": 59,
     "metadata": {},
     "output_type": "execute_result"
    }
   ],
   "source": [
    "population_data.head()"
   ]
  },
  {
   "cell_type": "code",
   "execution_count": 82,
   "metadata": {},
   "outputs": [
    {
     "name": "stderr",
     "output_type": "stream",
     "text": [
      "/tmp/ipykernel_8840/243199171.py:33: FutureWarning: \n",
      "\n",
      "Passing `palette` without assigning `hue` is deprecated and will be removed in v0.14.0. Assign the `x` variable to `hue` and set `legend=False` for the same effect.\n",
      "\n",
      "  sns.barplot(x=\"Country\", y=\"Yearly Change\", data=top_10_growth, palette=\"coolwarm\")\n"
     ]
    },
    {
     "data": {
      "image/png": "[encoded data removed]",
      "text/plain": [
       "<Figure size 1200x600 with 1 Axes>"
      ]
     },
     "metadata": {},
     "output_type": "display_data"
    }
   ],
   "source": [
    "# Read the World Population data from Worldometer\n",
    "url = \"https://www.worldometers.info/world-population/population-by-country/\"\n",
    "population_data = pd.read_html(url)[0]\n",
    "\n",
    "# Rename columns for easier access\n",
    "population_data.columns = [\n",
    "    \"#\",\n",
    "    \"Country\",\n",
    "    \"Population\",\n",
    "    \"Yearly Change\",\n",
    "    \"Net Change\",\n",
    "    \"Density (P/Km²)\",\n",
    "    \"Land Area (Km²)\",\n",
    "    \"Migrants (net)\",\n",
    "    \"Fertility Rate\",\n",
    "    \"Median Age\",\n",
    "    \"Urban Population\",\n",
    "    \"World Share\",\n",
    "]\n",
    "\n",
    "# Convert the 'Yearly Change' to a numeric value (removing the percentage sign)\n",
    "population_data[\"Yearly Change\"] = (\n",
    "    population_data[\"Yearly Change\"].str.rstrip(\"%\").astype(float)\n",
    ")\n",
    "\n",
    "# Sort the dataset by 'Yearly Change' to get the top 10 countries by population growth\n",
    "top_10_growth = population_data.sort_values(by=\"Yearly Change\", ascending=False).head(\n",
    "    10\n",
    ")\n",
    "\n",
    "# Plot a bar chart\n",
    "plt.figure(figsize=(12, 6))\n",
    "sns.barplot(x=\"Country\", y=\"Yearly Change\", data=top_10_growth, palette=\"coolwarm\")\n",
    "\n",
    "# Add labels and title\n",
    "plt.title(\"Top 10 Countries by Yearly Population Growth (%)\")\n",
    "plt.xlabel(\"Country\")\n",
    "plt.ylabel(\"Yearly Population Growth (%)\")\n",
    "\n",
    "# Rotate the x-axis labels for better readability\n",
    "plt.xticks(rotation=45)\n",
    "\n",
    "# Show the plot\n",
    "plt.show()"
   ]
  },
  {
   "cell_type": "markdown",
   "metadata": {},
   "source": [
    "## Exercise: Fare vs. Age for Each Passenger Class\n",
    "Goal: Create a scatter plot that shows the relationship between passengers' age and fare they paid, color-coded by passenger class (Pclass).\n",
    "\n",
    "Steps:\n",
    "Load the Titanic dataset.\n",
    "Create a scatter plot using seaborn’s scatterplot(), with Age on the x-axis, Fare on the y-axis, and the points color-coded by Pclass."
   ]
  },
  {
   "cell_type": "markdown",
   "metadata": {},
   "source": []
  }
 ],
 "metadata": {
  "kernelspec": {
   "display_name": "Python 3",
   "language": "python",
   "name": "python3"
  },
  "language_info": {
   "codemirror_mode": {
    "name": "ipython",
    "version": 3
   },
   "file_extension": ".py",
   "mimetype": "text/x-python",
   "name": "python",
   "nbconvert_exporter": "python",
   "pygments_lexer": "ipython3",
   "version": "3.13.0rc2"
  }
 },
 "nbformat": 4,
 "nbformat_minor": 2
}
